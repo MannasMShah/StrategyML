{
 "cells": [
  {
   "cell_type": "code",
   "execution_count": 1,
   "id": "5a7ee819",
   "metadata": {},
   "outputs": [],
   "source": [
    "#imports"
   ]
  },
  {
   "cell_type": "code",
   "execution_count": 1,
   "id": "a9186cbd",
   "metadata": {},
   "outputs": [],
   "source": [
    "import pandas as pd\n",
    "import numpy as np\n",
    "import matplotlib.pyplot as plt"
   ]
  },
  {
   "cell_type": "code",
   "execution_count": null,
   "id": "2bc08aa9",
   "metadata": {},
   "outputs": [],
   "source": [
    "df = pd.read_csv(\"data.csv\")"
   ]
  },
  {
   "cell_type": "code",
   "execution_count": null,
   "id": "3e851bed",
   "metadata": {},
   "outputs": [],
   "source": [
    "df['Date'] = pd.to_datetime(df['Date'],format=\"%d-%m-%Y\")\n",
    "df = df.sort_values('Date').reset_index(drop=True)"
   ]
  },
  {
   "cell_type": "code",
   "execution_count": null,
   "id": "e2e59474",
   "metadata": {},
   "outputs": [],
   "source": [
    "def convert_volume(vol):\n",
    "    if 'M' in vol:\n",
    "        return float(vol.replace('M',''))*1000000\n",
    "    elif 'k' in vol:\n",
    "        return float(vol.replace('K',''))*1000\n",
    "    else:\n",
    "        return np.nan"
   ]
  },
  {
   "cell_type": "code",
   "execution_count": null,
   "id": "00fe7208",
   "metadata": {},
   "outputs": [],
   "source": [
    "df['Volume'] = df['Vol.'].apply(convert_volume)"
   ]
  },
  {
   "cell_type": "code",
   "execution_count": null,
   "id": "d110ad6f",
   "metadata": {},
   "outputs": [],
   "source": [
    "df['Change'] = df['Change %'].str.replace('%','').astype(float) / 100"
   ]
  },
  {
   "cell_type": "code",
   "execution_count": null,
   "id": "f8cc674d",
   "metadata": {},
   "outputs": [],
   "source": [
    "df = df.drop(columns=['Vol.','Change %'])"
   ]
  },
  {
   "cell_type": "code",
   "execution_count": null,
   "id": "4ce01db4",
   "metadata": {},
   "outputs": [
    {
     "data": {
      "text/html": [
       "<div>\n",
       "<style scoped>\n",
       "    .dataframe tbody tr th:only-of-type {\n",
       "        vertical-align: middle;\n",
       "    }\n",
       "\n",
       "    .dataframe tbody tr th {\n",
       "        vertical-align: top;\n",
       "    }\n",
       "\n",
       "    .dataframe thead th {\n",
       "        text-align: right;\n",
       "    }\n",
       "</style>\n",
       "<table border=\"1\" class=\"dataframe\">\n",
       "  <thead>\n",
       "    <tr style=\"text-align: right;\">\n",
       "      <th></th>\n",
       "      <th>Date</th>\n",
       "      <th>Price</th>\n",
       "      <th>Open</th>\n",
       "      <th>High</th>\n",
       "      <th>Low</th>\n",
       "      <th>Volume</th>\n",
       "      <th>Change</th>\n",
       "    </tr>\n",
       "  </thead>\n",
       "  <tbody>\n",
       "    <tr>\n",
       "      <th>0</th>\n",
       "      <td>2010-01-04</td>\n",
       "      <td>17.94</td>\n",
       "      <td>17.32</td>\n",
       "      <td>17.95</td>\n",
       "      <td>17.29</td>\n",
       "      <td>52090000.0</td>\n",
       "      <td>0.0406</td>\n",
       "    </tr>\n",
       "    <tr>\n",
       "      <th>1</th>\n",
       "      <td>2010-01-05</td>\n",
       "      <td>17.69</td>\n",
       "      <td>17.94</td>\n",
       "      <td>17.94</td>\n",
       "      <td>17.58</td>\n",
       "      <td>43380000.0</td>\n",
       "      <td>-0.0139</td>\n",
       "    </tr>\n",
       "    <tr>\n",
       "      <th>2</th>\n",
       "      <td>2010-01-06</td>\n",
       "      <td>17.63</td>\n",
       "      <td>17.69</td>\n",
       "      <td>17.83</td>\n",
       "      <td>17.55</td>\n",
       "      <td>41410000.0</td>\n",
       "      <td>-0.0034</td>\n",
       "    </tr>\n",
       "    <tr>\n",
       "      <th>3</th>\n",
       "      <td>2010-01-07</td>\n",
       "      <td>17.57</td>\n",
       "      <td>17.67</td>\n",
       "      <td>17.70</td>\n",
       "      <td>17.50</td>\n",
       "      <td>39430000.0</td>\n",
       "      <td>-0.0034</td>\n",
       "    </tr>\n",
       "    <tr>\n",
       "      <th>4</th>\n",
       "      <td>2010-01-08</td>\n",
       "      <td>17.71</td>\n",
       "      <td>17.65</td>\n",
       "      <td>17.74</td>\n",
       "      <td>17.56</td>\n",
       "      <td>30410000.0</td>\n",
       "      <td>0.0080</td>\n",
       "    </tr>\n",
       "  </tbody>\n",
       "</table>\n",
       "</div>"
      ],
      "text/plain": [
       "        Date  Price   Open   High    Low      Volume  Change\n",
       "0 2010-01-04  17.94  17.32  17.95  17.29  52090000.0  0.0406\n",
       "1 2010-01-05  17.69  17.94  17.94  17.58  43380000.0 -0.0139\n",
       "2 2010-01-06  17.63  17.69  17.83  17.55  41410000.0 -0.0034\n",
       "3 2010-01-07  17.57  17.67  17.70  17.50  39430000.0 -0.0034\n",
       "4 2010-01-08  17.71  17.65  17.74  17.56  30410000.0  0.0080"
      ]
     },
     "execution_count": 65,
     "metadata": {},
     "output_type": "execute_result"
    }
   ],
   "source": [
    "df.head()"
   ]
  },
  {
   "cell_type": "code",
   "execution_count": null,
   "id": "fa149fb7",
   "metadata": {},
   "outputs": [],
   "source": [
    "import xgboost as xgb"
   ]
  },
  {
   "cell_type": "code",
   "execution_count": null,
   "id": "5b6e1162",
   "metadata": {},
   "outputs": [],
   "source": [
    "from xgboost import XGBClassifier"
   ]
  },
  {
   "cell_type": "code",
   "execution_count": null,
   "id": "af2c1faa",
   "metadata": {},
   "outputs": [],
   "source": [
    "import sklearn"
   ]
  },
  {
   "cell_type": "code",
   "execution_count": null,
   "id": "0b80e4eb",
   "metadata": {},
   "outputs": [],
   "source": [
    "from sklearn.metrics import accuracy_score\n",
    "from sklearn.model_selection import train_test_split\n",
    "from sklearn.preprocessing import StandardScaler"
   ]
  },
  {
   "cell_type": "code",
   "execution_count": null,
   "id": "c5a39967",
   "metadata": {},
   "outputs": [],
   "source": [
    "df['Return'] = df['Price'].pct_change()\n",
    "df['Target'] = (df['Return'].shift(-1)>0).astype(int)"
   ]
  },
  {
   "cell_type": "code",
   "execution_count": null,
   "id": "cb0b8087",
   "metadata": {},
   "outputs": [],
   "source": [
    "window = 10\n",
    "df['Rollingmean'] = df['Price'].rolling(window).mean()\n",
    "df['Rollingstd'] = df['Price'].rolling(window).std()\n",
    "df['ZScore'] = (df['Price'] - df['Rollingmean']) / df['Rollingstd']\n",
    "df['Momentum_5'] = df['Price'].pct_change(5)\n",
    "df['Momentum_10'] = df['Price'].pct_change(10)\n",
    "df['Bollinger_Width'] = (2 * df['Rollingstd']) / df['Rollingmean']\n",
    "df['Volume_Change'] = df['Volume'].pct_change()"
   ]
  },
  {
   "cell_type": "code",
   "execution_count": null,
   "id": "f4406ae7",
   "metadata": {},
   "outputs": [],
   "source": [
    "df['avg20'] = df['Volume'].rolling(window=20).mean()\n",
    "df['Volume_ratio'] = df['Volume'] / df['avg20']\n",
    "df['Rank_Negreturn'] = (df['Return'].rank(ascending=True))\n",
    "df['Rank_Volumeratio'] = df['Volume_ratio'].rank()\n",
    "df['Hump_Alpha'] = df['Rank_Negreturn'] * df['Rank_Volumeratio']\n",
    "df['Hump_Alpha'] = (df['Hump_Alpha'] - df['Hump_Alpha'].mean()) / df['Hump_Alpha'].std()\n"
   ]
  },
  {
   "cell_type": "code",
   "execution_count": null,
   "id": "5f6ac90c",
   "metadata": {},
   "outputs": [],
   "source": [
    "df = df.dropna().reset_index(drop=True)"
   ]
  },
  {
   "cell_type": "code",
   "execution_count": null,
   "id": "2bf44ecd",
   "metadata": {},
   "outputs": [
    {
     "data": {
      "text/html": [
       "<div>\n",
       "<style scoped>\n",
       "    .dataframe tbody tr th:only-of-type {\n",
       "        vertical-align: middle;\n",
       "    }\n",
       "\n",
       "    .dataframe tbody tr th {\n",
       "        vertical-align: top;\n",
       "    }\n",
       "\n",
       "    .dataframe thead th {\n",
       "        text-align: right;\n",
       "    }\n",
       "</style>\n",
       "<table border=\"1\" class=\"dataframe\">\n",
       "  <thead>\n",
       "    <tr style=\"text-align: right;\">\n",
       "      <th></th>\n",
       "      <th>Date</th>\n",
       "      <th>Price</th>\n",
       "      <th>Open</th>\n",
       "      <th>High</th>\n",
       "      <th>Low</th>\n",
       "      <th>Volume</th>\n",
       "      <th>Change</th>\n",
       "      <th>Return</th>\n",
       "      <th>Target</th>\n",
       "      <th>Rollingmean</th>\n",
       "      <th>...</th>\n",
       "      <th>ZScore</th>\n",
       "      <th>Momentum_5</th>\n",
       "      <th>Momentum_10</th>\n",
       "      <th>Bollinger_Width</th>\n",
       "      <th>Volume_Change</th>\n",
       "      <th>avg20</th>\n",
       "      <th>Volume_ratio</th>\n",
       "      <th>Rank_Negreturn</th>\n",
       "      <th>Rank_Volumeratio</th>\n",
       "      <th>Hump_Alpha</th>\n",
       "    </tr>\n",
       "  </thead>\n",
       "  <tbody>\n",
       "    <tr>\n",
       "      <th>0</th>\n",
       "      <td>2010-02-01</td>\n",
       "      <td>17.81</td>\n",
       "      <td>17.81</td>\n",
       "      <td>18.00</td>\n",
       "      <td>17.73</td>\n",
       "      <td>39460000.0</td>\n",
       "      <td>0.0068</td>\n",
       "      <td>0.006783</td>\n",
       "      <td>1</td>\n",
       "      <td>18.091</td>\n",
       "      <td>...</td>\n",
       "      <td>-0.594297</td>\n",
       "      <td>-0.003358</td>\n",
       "      <td>-0.036255</td>\n",
       "      <td>0.052272</td>\n",
       "      <td>-0.295860</td>\n",
       "      <td>52714000.0</td>\n",
       "      <td>0.748568</td>\n",
       "      <td>2845.0</td>\n",
       "      <td>831.0</td>\n",
       "      <td>-0.368643</td>\n",
       "    </tr>\n",
       "    <tr>\n",
       "      <th>1</th>\n",
       "      <td>2010-02-02</td>\n",
       "      <td>18.24</td>\n",
       "      <td>17.89</td>\n",
       "      <td>18.32</td>\n",
       "      <td>17.79</td>\n",
       "      <td>67640000.0</td>\n",
       "      <td>0.0241</td>\n",
       "      <td>0.024144</td>\n",
       "      <td>0</td>\n",
       "      <td>18.019</td>\n",
       "      <td>...</td>\n",
       "      <td>0.598467</td>\n",
       "      <td>0.024719</td>\n",
       "      <td>-0.037975</td>\n",
       "      <td>0.040988</td>\n",
       "      <td>0.714141</td>\n",
       "      <td>53491500.0</td>\n",
       "      <td>1.264500</td>\n",
       "      <td>3698.0</td>\n",
       "      <td>3192.0</td>\n",
       "      <td>2.350048</td>\n",
       "    </tr>\n",
       "    <tr>\n",
       "      <th>2</th>\n",
       "      <td>2010-02-03</td>\n",
       "      <td>17.65</td>\n",
       "      <td>17.72</td>\n",
       "      <td>17.87</td>\n",
       "      <td>17.46</td>\n",
       "      <td>114000000.0</td>\n",
       "      <td>-0.0323</td>\n",
       "      <td>-0.032346</td>\n",
       "      <td>0</td>\n",
       "      <td>17.894</td>\n",
       "      <td>...</td>\n",
       "      <td>-1.114942</td>\n",
       "      <td>-0.019989</td>\n",
       "      <td>-0.066138</td>\n",
       "      <td>0.024460</td>\n",
       "      <td>0.685393</td>\n",
       "      <td>57022500.0</td>\n",
       "      <td>1.999211</td>\n",
       "      <td>57.0</td>\n",
       "      <td>3726.0</td>\n",
       "      <td>-0.988370</td>\n",
       "    </tr>\n",
       "    <tr>\n",
       "      <th>3</th>\n",
       "      <td>2010-02-04</td>\n",
       "      <td>17.09</td>\n",
       "      <td>17.39</td>\n",
       "      <td>17.48</td>\n",
       "      <td>17.07</td>\n",
       "      <td>94260000.0</td>\n",
       "      <td>-0.0317</td>\n",
       "      <td>-0.031728</td>\n",
       "      <td>0</td>\n",
       "      <td>17.779</td>\n",
       "      <td>...</td>\n",
       "      <td>-2.275017</td>\n",
       "      <td>-0.032276</td>\n",
       "      <td>-0.063048</td>\n",
       "      <td>0.034069</td>\n",
       "      <td>-0.173158</td>\n",
       "      <td>59665000.0</td>\n",
       "      <td>1.579821</td>\n",
       "      <td>59.0</td>\n",
       "      <td>3573.0</td>\n",
       "      <td>-0.988824</td>\n",
       "    </tr>\n",
       "    <tr>\n",
       "      <th>4</th>\n",
       "      <td>2010-02-05</td>\n",
       "      <td>17.03</td>\n",
       "      <td>16.98</td>\n",
       "      <td>17.24</td>\n",
       "      <td>16.68</td>\n",
       "      <td>90400000.0</td>\n",
       "      <td>-0.0035</td>\n",
       "      <td>-0.003511</td>\n",
       "      <td>0</td>\n",
       "      <td>17.685</td>\n",
       "      <td>...</td>\n",
       "      <td>-1.749416</td>\n",
       "      <td>-0.037309</td>\n",
       "      <td>-0.052309</td>\n",
       "      <td>0.042342</td>\n",
       "      <td>-0.040951</td>\n",
       "      <td>62213500.0</td>\n",
       "      <td>1.453061</td>\n",
       "      <td>1388.0</td>\n",
       "      <td>3457.0</td>\n",
       "      <td>0.332390</td>\n",
       "    </tr>\n",
       "  </tbody>\n",
       "</table>\n",
       "<p>5 rows × 21 columns</p>\n",
       "</div>"
      ],
      "text/plain": [
       "        Date  Price   Open   High    Low       Volume  Change    Return  \\\n",
       "0 2010-02-01  17.81  17.81  18.00  17.73   39460000.0  0.0068  0.006783   \n",
       "1 2010-02-02  18.24  17.89  18.32  17.79   67640000.0  0.0241  0.024144   \n",
       "2 2010-02-03  17.65  17.72  17.87  17.46  114000000.0 -0.0323 -0.032346   \n",
       "3 2010-02-04  17.09  17.39  17.48  17.07   94260000.0 -0.0317 -0.031728   \n",
       "4 2010-02-05  17.03  16.98  17.24  16.68   90400000.0 -0.0035 -0.003511   \n",
       "\n",
       "   Target  Rollingmean  ...    ZScore  Momentum_5  Momentum_10  \\\n",
       "0       1       18.091  ... -0.594297   -0.003358    -0.036255   \n",
       "1       0       18.019  ...  0.598467    0.024719    -0.037975   \n",
       "2       0       17.894  ... -1.114942   -0.019989    -0.066138   \n",
       "3       0       17.779  ... -2.275017   -0.032276    -0.063048   \n",
       "4       0       17.685  ... -1.749416   -0.037309    -0.052309   \n",
       "\n",
       "   Bollinger_Width  Volume_Change       avg20  Volume_ratio  Rank_Negreturn  \\\n",
       "0         0.052272      -0.295860  52714000.0      0.748568          2845.0   \n",
       "1         0.040988       0.714141  53491500.0      1.264500          3698.0   \n",
       "2         0.024460       0.685393  57022500.0      1.999211            57.0   \n",
       "3         0.034069      -0.173158  59665000.0      1.579821            59.0   \n",
       "4         0.042342      -0.040951  62213500.0      1.453061          1388.0   \n",
       "\n",
       "   Rank_Volumeratio  Hump_Alpha  \n",
       "0             831.0   -0.368643  \n",
       "1            3192.0    2.350048  \n",
       "2            3726.0   -0.988370  \n",
       "3            3573.0   -0.988824  \n",
       "4            3457.0    0.332390  \n",
       "\n",
       "[5 rows x 21 columns]"
      ]
     },
     "execution_count": 74,
     "metadata": {},
     "output_type": "execute_result"
    }
   ],
   "source": [
    "df.head()"
   ]
  },
  {
   "cell_type": "code",
   "execution_count": null,
   "id": "124614a4",
   "metadata": {},
   "outputs": [],
   "source": [
    "features = ['ZScore', 'Momentum_5', 'Momentum_10', 'Bollinger_Width','Volume_Change','Hump_Alpha']\n",
    "\n",
    "X = df[features]\n",
    "y = df['Target']"
   ]
  },
  {
   "cell_type": "code",
   "execution_count": null,
   "id": "7b02a477",
   "metadata": {},
   "outputs": [],
   "source": [
    "df['Date'] = pd.to_datetime(df['Date'])\n",
    "train_mask = df['Date'] < '2022-01-01'\n",
    "test_mask = df['Date'] >= '2022-01-01'\n",
    "\n",
    "X_train, X_test = X[train_mask], X[test_mask]\n",
    "y_train, y_test = y[train_mask], y[test_mask]\n",
    "dates_test = df['Date'][test_mask]\n",
    "prices_test = df['Price'][test_mask].values"
   ]
  },
  {
   "cell_type": "code",
   "execution_count": null,
   "id": "14d78242",
   "metadata": {},
   "outputs": [],
   "source": [
    "scaler = StandardScaler()\n",
    "X_train_scaled = scaler.fit_transform(X_train)\n",
    "X_test_scaled = scaler.transform(X_test)"
   ]
  },
  {
   "cell_type": "code",
   "execution_count": null,
   "id": "7ebc38fa",
   "metadata": {},
   "outputs": [
    {
     "name": "stderr",
     "output_type": "stream",
     "text": [
      "/Users/mannasmshah/Desktop/Pranak_Trex_BITS/pfizer_env/lib/python3.10/site-packages/xgboost/training.py:183: UserWarning: [22:47:41] WARNING: /Users/runner/work/xgboost/xgboost/src/learner.cc:738: \n",
      "Parameters: { \"use_label_encoder\" } are not used.\n",
      "\n",
      "  bst.update(dtrain, iteration=i, fobj=obj)\n"
     ]
    }
   ],
   "source": [
    "model = XGBClassifier(\n",
    "    use_label_encoder= False,\n",
    "    eval_metric= 'logloss')\n",
    "model.fit(X_train_scaled, y_train)\n",
    "y_pred = model.predict(X_test_scaled)"
   ]
  },
  {
   "cell_type": "code",
   "execution_count": null,
   "id": "d0cdd748",
   "metadata": {},
   "outputs": [],
   "source": [
    "positions = y_pred * 2 - 1 \n",
    "returns = np.diff(prices_test) / prices_test[:-1] \n",
    "pnl = positions[:-1] * returns * 1_000_000\n"
   ]
  },
  {
   "cell_type": "code",
   "execution_count": null,
   "id": "6c41d12d",
   "metadata": {},
   "outputs": [],
   "source": [
    "cumulative_pnl = np.cumsum(pnl)"
   ]
  },
  {
   "cell_type": "code",
   "execution_count": null,
   "id": "3c3f2588",
   "metadata": {},
   "outputs": [],
   "source": [
    "buy_and_hold_returns = (prices_test[1:] - prices_test[0]) * 1_000_000 / prices_test[0]"
   ]
  },
  {
   "cell_type": "code",
   "execution_count": null,
   "id": "492a8f4c",
   "metadata": {},
   "outputs": [
    {
     "name": "stdout",
     "output_type": "stream",
     "text": [
      "Portfolio representation shape: (1, 824)\n"
     ]
    }
   ],
   "source": [
    "i = 1_000_000\n",
    "portfolio_values = i + cumulative_pnl\n",
    "portfolio_values = portfolio_values.reshape(1, -1)\n",
    "print(\"Portfolio representation shape:\", portfolio_values.shape)\n"
   ]
  },
  {
   "cell_type": "code",
   "execution_count": null,
   "id": "2c242eb2",
   "metadata": {},
   "outputs": [
    {
     "data": {
      "image/png": "[encoded data removed]",
      "text/plain": [
       "<Figure size 1200x600 with 1 Axes>"
      ]
     },
     "metadata": {},
     "output_type": "display_data"
    }
   ],
   "source": [
    "plt.figure(figsize=(12,6))\n",
    "plt.plot(dates_test[1:], cumulative_pnl, label='Strategy')\n",
    "plt.plot(dates_test[1:], buy_and_hold_returns, label='Buy & Hold')\n",
    "plt.title(\"Cumulative Returns: Strategy vs Buy & Hold\")\n",
    "plt.xlabel(\"Date\")\n",
    "plt.ylabel(\"Cumulative PnL ($)\")\n",
    "plt.legend()\n",
    "plt.grid(True)\n",
    "plt.tight_layout()\n",
    "plt.show()"
   ]
  }
 ],
 "metadata": {
  "kernelspec": {
   "display_name": "Python 3",
   "language": "python",
   "name": "python3"
  },
  "language_info": {
   "codemirror_mode": {
    "name": "ipython",
    "version": 3
   },
   "file_extension": ".py",
   "mimetype": "text/x-python",
   "name": "python",
   "nbconvert_exporter": "python",
   "pygments_lexer": "ipython3",
   "version": "3.13.3"
  }
 },
 "nbformat": 4,
 "nbformat_minor": 5
}
